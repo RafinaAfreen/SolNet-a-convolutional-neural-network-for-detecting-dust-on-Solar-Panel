{
 "cells": [
  {
   "cell_type": "code",
   "execution_count": 1,
   "id": "942e59ca",
   "metadata": {},
   "outputs": [],
   "source": [
    "import numpy as np\n",
    "import pandas as pd\n",
    "import tensorflow as tf\n",
    "from tensorflow.keras.preprocessing.image import ImageDataGenerator\n",
    "from tensorflow.keras import Sequential\n",
    "from tensorflow.keras.layers import Conv2D,Dense,MaxPool2D,Flatten\n",
    "from tensorflow.keras.regularizers import l2"
   ]
  },
  {
   "cell_type": "code",
   "execution_count": 2,
   "id": "c7719228",
   "metadata": {},
   "outputs": [],
   "source": [
    "train_dir = r\"C:\\Users\\Lenovo\\Desktop\\Thesis\\main folder\\dataset\\New folder\\train/\"\n",
    "test_dir = r\"C:\\Users\\Lenovo\\Desktop\\Thesis\\main folder\\dataset\\New folder\\test/\""
   ]
  },
  {
   "cell_type": "code",
   "execution_count": 3,
   "id": "ce70205e",
   "metadata": {},
   "outputs": [
    {
     "name": "stdout",
     "output_type": "stream",
     "text": [
      "Found 996 images belonging to 2 classes.\n",
      "Found 684 images belonging to 2 classes.\n"
     ]
    }
   ],
   "source": [
    "train_datagen = ImageDataGenerator(rescale=(1/255.),shear_range = 0.2,zoom_range=0.2,\n",
    "                                   horizontal_flip=True)\n",
    "training_set = train_datagen.flow_from_directory(directory = train_dir,target_size=(64,64),\n",
    "                                                batch_size=32,\n",
    "                                                class_mode = \"binary\")\n",
    "test_datagen = ImageDataGenerator(rescale=(1/255.))\n",
    "test_set = test_datagen.flow_from_directory(directory = test_dir,target_size=(64,64),\n",
    "                                                batch_size=32,\n",
    "                                                class_mode = \"binary\")"
   ]
  },
  {
   "cell_type": "code",
   "execution_count": 4,
   "id": "3e4db09e",
   "metadata": {},
   "outputs": [],
   "source": [
    "model = Sequential()\n",
    "model.add(Conv2D(filters = 32, padding = \"same\",activation = \"relu\",kernel_size=3, strides = 2,input_shape=(64,64,3)))\n",
    "model.add(MaxPool2D(pool_size=(2,2),strides = 2))\n",
    "\n",
    "model.add(Conv2D(filters = 32, padding = \"same\",activation = \"relu\",kernel_size=3))\n",
    "model.add(MaxPool2D(pool_size=(2,2),strides = 2))\n",
    "\n",
    "model.add(Flatten())\n",
    "model.add(Dense(128,activation=\"relu\"))\n",
    "\n",
    "#Output layer\n",
    "model.add(Dense(1,kernel_regularizer=l2(0.01),activation = \"linear\"))"
   ]
  },
  {
   "cell_type": "code",
   "execution_count": 5,
   "id": "848d5449",
   "metadata": {},
   "outputs": [],
   "source": [
    "model.compile(optimizer = 'adam', loss = \"hinge\", metrics = ['accuracy'])"
   ]
  },
  {
   "cell_type": "code",
   "execution_count": 6,
   "id": "1a7deb8c",
   "metadata": {},
   "outputs": [],
   "source": [
    "# model.add(Dense(number_of_classes,kernel_regularizers = l2(0.01),activation= \"softmax\"))\n",
    "# model.compile(optimizer=\"adam\",loss=\"squared_hinge\", metrics = ['accuracy'])"
   ]
  },
  {
   "cell_type": "code",
   "execution_count": 7,
   "id": "133c9c15",
   "metadata": {},
   "outputs": [
    {
     "name": "stdout",
     "output_type": "stream",
     "text": [
      "Epoch 1/5\n",
      "32/32 [==============================] - 909s 28s/step - loss: 0.8449 - accuracy: 0.6165 - val_loss: 0.9423 - val_accuracy: 0.5380\n",
      "Epoch 2/5\n",
      "32/32 [==============================] - 932s 29s/step - loss: 0.5585 - accuracy: 0.7359 - val_loss: 0.7721 - val_accuracy: 0.6491\n",
      "Epoch 3/5\n",
      "32/32 [==============================] - 928s 29s/step - loss: 0.4852 - accuracy: 0.7721 - val_loss: 0.8626 - val_accuracy: 0.5731\n",
      "Epoch 4/5\n",
      "32/32 [==============================] - 889s 28s/step - loss: 0.4392 - accuracy: 0.7831 - val_loss: 0.8305 - val_accuracy: 0.6257\n",
      "Epoch 5/5\n",
      "32/32 [==============================] - 905s 28s/step - loss: 0.3854 - accuracy: 0.8042 - val_loss: 0.8837 - val_accuracy: 0.6067\n"
     ]
    }
   ],
   "source": [
    "history = model.fit(x = training_set, validation_data = test_set, epochs=5)"
   ]
  },
  {
   "cell_type": "code",
   "execution_count": 8,
   "id": "e388ef1b",
   "metadata": {},
   "outputs": [
    {
     "name": "stderr",
     "output_type": "stream",
     "text": [
      "No handles with labels found to put in legend.\n"
     ]
    },
    {
     "data": {
      "image/png": "[encoded data removed]",
      "text/plain": [
       "<Figure size 432x288 with 1 Axes>"
      ]
     },
     "metadata": {
      "needs_background": "light"
     },
     "output_type": "display_data"
    },
    {
     "data": {
      "text/plain": [
       "<Figure size 432x288 with 0 Axes>"
      ]
     },
     "metadata": {},
     "output_type": "display_data"
    }
   ],
   "source": [
    "from keras.models import Sequential\n",
    "from keras.layers import Dense\n",
    "import matplotlib.pyplot as plt\n",
    "import numpy\n",
    "plt.plot(history.history['accuracy'])\n",
    "plt.plot(history.history['val_accuracy'])\n",
    "plt.ylabel('train acc')\n",
    "plt.xlabel('val acc')\n",
    "plt.legend()\n",
    "plt.show()\n",
    "plt.savefig('AccVal_acc')"
   ]
  },
  {
   "cell_type": "code",
   "execution_count": 9,
   "id": "c69cd253",
   "metadata": {},
   "outputs": [
    {
     "name": "stderr",
     "output_type": "stream",
     "text": [
      "No handles with labels found to put in legend.\n"
     ]
    },
    {
     "data": {
      "image/png": "[encoded data removed]",
      "text/plain": [
       "<Figure size 432x288 with 1 Axes>"
      ]
     },
     "metadata": {
      "needs_background": "light"
     },
     "output_type": "display_data"
    },
    {
     "data": {
      "text/plain": [
       "<Figure size 432x288 with 0 Axes>"
      ]
     },
     "metadata": {},
     "output_type": "display_data"
    }
   ],
   "source": [
    "plt.plot(history.history['loss'])\n",
    "plt.plot(history.history['val_loss'])\n",
    "plt.ylabel('train loss')\n",
    "plt.xlabel('val loss')\n",
    "plt.legend()\n",
    "plt.show()\n",
    "plt.savefig('LossVal_loss')"
   ]
  },
  {
   "cell_type": "code",
   "execution_count": 10,
   "id": "19337528",
   "metadata": {},
   "outputs": [
    {
     "name": "stdout",
     "output_type": "stream",
     "text": [
      "WARNING:tensorflow:From <ipython-input-10-bfe95e290a1b>:6: Model.predict_generator (from tensorflow.python.keras.engine.training) is deprecated and will be removed in a future version.\n",
      "Instructions for updating:\n",
      "Please use Model.predict, which supports generators.\n",
      "['clean', 'dirty']\n",
      "[[289  45]\n",
      " [306  44]]\n",
      "              precision    recall  f1-score   support\n",
      "\n",
      "       clean       0.49      0.87      0.62       334\n",
      "       dirty       0.49      0.13      0.20       350\n",
      "\n",
      "    accuracy                           0.49       684\n",
      "   macro avg       0.49      0.50      0.41       684\n",
      "weighted avg       0.49      0.49      0.41       684\n",
      "\n"
     ]
    }
   ],
   "source": [
    "import numpy as np\n",
    "from tensorflow.keras.preprocessing.image import ImageDataGenerator\n",
    "\n",
    "test_steps_per_epoch = np.math.ceil(test_set.samples / test_set.batch_size)\n",
    "\n",
    "predictions = model.predict_generator(test_set , steps=test_steps_per_epoch)\n",
    "\n",
    "# Get most likely class\n",
    "predicted_classes = [1 * (x[0]>=0.5) for x in predictions]\n",
    "\n",
    "# 2.Get ground-truth classes and class-labels\n",
    "true_classes = test_set.classes\n",
    "class_labels = list(test_set.class_indices.keys()) \n",
    "import sklearn\n",
    "# 3. Use scikit-learn to get statistics\n",
    "from sklearn.metrics import confusion_matrix,classification_report\n",
    "\n",
    "print(class_labels)\n",
    "\n",
    "print(confusion_matrix(test_set.classes, predicted_classes))\n",
    "\n",
    "report = sklearn.metrics.classification_report(true_classes, predicted_classes, target_names=class_labels)\n",
    "print(report) "
   ]
  },
  {
   "cell_type": "code",
   "execution_count": null,
   "id": "ce19a4ec",
   "metadata": {},
   "outputs": [],
   "source": []
  }
 ],
 "metadata": {
  "kernelspec": {
   "display_name": "Python 3",
   "language": "python",
   "name": "python3"
  },
  "language_info": {
   "codemirror_mode": {
    "name": "ipython",
    "version": 3
   },
   "file_extension": ".py",
   "mimetype": "text/x-python",
   "name": "python",
   "nbconvert_exporter": "python",
   "pygments_lexer": "ipython3",
   "version": "3.8.8"
  }
 },
 "nbformat": 4,
 "nbformat_minor": 5
}
